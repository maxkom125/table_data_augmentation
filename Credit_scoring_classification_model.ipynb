{
  "cells": [
    {
      "cell_type": "markdown",
      "metadata": {
        "id": "-pvKxJjsNSoE",
        "pycharm": {
          "name": "#%% md\n"
        }
      },
      "source": [
        "![giskard_logo.png](https://raw.githubusercontent.com/Giskard-AI/giskard/main/readme/Logo_full_darkgreen.png)"
      ]
    },
    {
      "cell_type": "markdown",
      "metadata": {
        "cell_id": "a9b17467105f4031a3f9eae70ef4138f",
        "deepnote_cell_height": 134,
        "deepnote_cell_type": "markdown",
        "id": "PKcOi3D37xbW",
        "pycharm": {
          "name": "#%% md\n"
        },
        "tags": []
      },
      "source": [
        "# About Giskard\n",
        "\n",
        "Open-Source CI/CD platform for ML teams. Deliver ML products, better & faster. \n",
        "\n",
        "*   Collaborate faster with feedback from business stakeholders.\n",
        "*   Deploy automated tests to eliminate regressions, errors & biases.\n",
        "\n",
        "🏡 [Website](https://giskard.ai/)\n",
        "\n",
        "📗 [Documentation](https://docs.giskard.ai/)"
      ]
    },
    {
      "cell_type": "markdown",
      "metadata": {
        "id": "Qd1uQrgqXIsG"
      },
      "source": [
        "## Installing `giskard`"
      ]
    },
    {
      "cell_type": "code",
      "execution_count": null,
      "metadata": {
        "colab": {
          "base_uri": "https://localhost:8080/"
        },
        "id": "mF5e2YuqXIsG",
        "outputId": "57437b30-ea82-4988-cff2-6504c52432f6"
      },
      "outputs": [
        {
          "output_type": "stream",
          "name": "stdout",
          "text": [
            "Looking in indexes: https://pypi.org/simple, https://us-python.pkg.dev/colab-wheels/public/simple/\n",
            "Collecting giskard\n",
            "  Downloading giskard-1.8.0-py3-none-any.whl (69 kB)\n",
            "\u001b[2K     \u001b[90m━━━━━━━━━━━━━━━━━━━━━━━━━━━━━━━━━━━━━━━━\u001b[0m \u001b[32m69.7/69.7 KB\u001b[0m \u001b[31m2.4 MB/s\u001b[0m eta \u001b[36m0:00:00\u001b[0m\n",
            "\u001b[?25hRequirement already satisfied: grpcio-status<2.0.0,>=1.46.3 in /usr/local/lib/python3.8/dist-packages (from giskard) (1.48.2)\n",
            "Requirement already satisfied: pydantic<2.0.0,>=1.10.2 in /usr/local/lib/python3.8/dist-packages (from giskard) (1.10.5)\n",
            "Collecting shap<0.42.0,>=0.41.0\n",
            "  Downloading shap-0.41.0-cp38-cp38-manylinux_2_12_x86_64.manylinux2010_x86_64.whl (575 kB)\n",
            "\u001b[2K     \u001b[90m━━━━━━━━━━━━━━━━━━━━━━━━━━━━━━━━━━━━━━\u001b[0m \u001b[32m575.9/575.9 KB\u001b[0m \u001b[31m24.6 MB/s\u001b[0m eta \u001b[36m0:00:00\u001b[0m\n",
            "\u001b[?25hCollecting requests-toolbelt<0.10.0,>=0.9.1\n",
            "  Downloading requests_toolbelt-0.9.1-py2.py3-none-any.whl (54 kB)\n",
            "\u001b[2K     \u001b[90m━━━━━━━━━━━━━━━━━━━━━━━━━━━━━━━━━━━━━━━━\u001b[0m \u001b[32m54.3/54.3 KB\u001b[0m \u001b[31m1.2 MB/s\u001b[0m eta \u001b[36m0:00:00\u001b[0m\n",
            "\u001b[?25hRequirement already satisfied: grpcio<2.0.0,>=1.46.3 in /usr/local/lib/python3.8/dist-packages (from giskard) (1.51.1)\n",
            "Requirement already satisfied: tqdm<5.0.0,>=4.64.1 in /usr/local/lib/python3.8/dist-packages (from giskard) (4.64.1)\n",
            "Collecting numpy<1.22.0,>=1.21.6\n",
            "  Downloading numpy-1.21.6-cp38-cp38-manylinux_2_12_x86_64.manylinux2010_x86_64.whl (15.7 MB)\n",
            "\u001b[2K     \u001b[90m━━━━━━━━━━━━━━━━━━━━━━━━━━━━━━━━━━━━━━━━\u001b[0m \u001b[32m15.7/15.7 MB\u001b[0m \u001b[31m39.9 MB/s\u001b[0m eta \u001b[36m0:00:00\u001b[0m\n",
            "\u001b[?25hCollecting eli5<0.14.0,>=0.13.0\n",
            "  Downloading eli5-0.13.0.tar.gz (216 kB)\n",
            "\u001b[2K     \u001b[90m━━━━━━━━━━━━━━━━━━━━━━━━━━━━━━━━━━━━━━\u001b[0m \u001b[32m216.2/216.2 KB\u001b[0m \u001b[31m16.1 MB/s\u001b[0m eta \u001b[36m0:00:00\u001b[0m\n",
            "\u001b[?25h  Preparing metadata (setup.py) ... \u001b[?25l\u001b[?25hdone\n",
            "Collecting psutil<6.0.0,>=5.9.2\n",
            "  Downloading psutil-5.9.4-cp36-abi3-manylinux_2_12_x86_64.manylinux2010_x86_64.manylinux_2_17_x86_64.manylinux2014_x86_64.whl (280 kB)\n",
            "\u001b[2K     \u001b[90m━━━━━━━━━━━━━━━━━━━━━━━━━━━━━━━━━━━━━━━\u001b[0m \u001b[32m280.2/280.2 KB\u001b[0m \u001b[31m5.5 MB/s\u001b[0m eta \u001b[36m0:00:00\u001b[0m\n",
            "\u001b[?25hCollecting importlib_metadata<5.0.0,>=4.11.4\n",
            "  Downloading importlib_metadata-4.13.0-py3-none-any.whl (23 kB)\n",
            "Collecting python-daemon<3.0.0,>=2.3.1\n",
            "  Downloading python_daemon-2.3.2-py3-none-any.whl (34 kB)\n",
            "Collecting setuptools<68.0.0,>=65.4.1\n",
            "  Downloading setuptools-67.4.0-py3-none-any.whl (1.1 MB)\n",
            "\u001b[2K     \u001b[90m━━━━━━━━━━━━━━━━━━━━━━━━━━━━━━━━━━━━━━━━\u001b[0m \u001b[32m1.1/1.1 MB\u001b[0m \u001b[31m34.9 MB/s\u001b[0m eta \u001b[36m0:00:00\u001b[0m\n",
            "\u001b[?25hRequirement already satisfied: scipy<1.8,>=1.7.2 in /usr/local/lib/python3.8/dist-packages (from giskard) (1.7.3)\n",
            "Collecting click<9.0.0,>=8.1.3\n",
            "  Downloading click-8.1.3-py3-none-any.whl (96 kB)\n",
            "\u001b[2K     \u001b[90m━━━━━━━━━━━━━━━━━━━━━━━━━━━━━━━━━━━━━━━━\u001b[0m \u001b[32m96.6/96.6 KB\u001b[0m \u001b[31m5.1 MB/s\u001b[0m eta \u001b[36m0:00:00\u001b[0m\n",
            "\u001b[?25hRequirement already satisfied: tenacity<9.0.0,>=8.1.0 in /usr/local/lib/python3.8/dist-packages (from giskard) (8.2.1)\n",
            "Collecting beautifulsoup4<5.0.0,>=4.11.1\n",
            "  Downloading beautifulsoup4-4.11.2-py3-none-any.whl (129 kB)\n",
            "\u001b[2K     \u001b[90m━━━━━━━━━━━━━━━━━━━━━━━━━━━━━━━━━━━━━━━\u001b[0m \u001b[32m129.4/129.4 KB\u001b[0m \u001b[31m6.9 MB/s\u001b[0m eta \u001b[36m0:00:00\u001b[0m\n",
            "\u001b[?25hCollecting zstandard<0.16.0,>=0.15.2\n",
            "  Downloading zstandard-0.15.2-cp38-cp38-manylinux2014_x86_64.whl (2.2 MB)\n",
            "\u001b[2K     \u001b[90m━━━━━━━━━━━━━━━━━━━━━━━━━━━━━━━━━━━━━━━━\u001b[0m \u001b[32m2.2/2.2 MB\u001b[0m \u001b[31m10.9 MB/s\u001b[0m eta \u001b[36m0:00:00\u001b[0m\n",
            "\u001b[?25hCollecting mixpanel<5.0.0,>=4.10.0\n",
            "  Downloading mixpanel-4.10.0-py2.py3-none-any.whl (8.9 kB)\n",
            "Requirement already satisfied: cloudpickle<3.0.0,>=2.1.0 in /usr/local/lib/python3.8/dist-packages (from giskard) (2.2.1)\n",
            "Requirement already satisfied: scikit-learn<1.1.0,>=1.0.0 in /usr/local/lib/python3.8/dist-packages (from giskard) (1.0.2)\n",
            "Collecting requests<3.0.0,>=2.28.1\n",
            "  Downloading requests-2.28.2-py3-none-any.whl (62 kB)\n",
            "\u001b[2K     \u001b[90m━━━━━━━━━━━━━━━━━━━━━━━━━━━━━━━━━━━━━━━━\u001b[0m \u001b[32m62.8/62.8 KB\u001b[0m \u001b[31m2.9 MB/s\u001b[0m eta \u001b[36m0:00:00\u001b[0m\n",
            "\u001b[?25hRequirement already satisfied: pandas<2.0.0,>=1.3.5 in /usr/local/lib/python3.8/dist-packages (from giskard) (1.3.5)\n",
            "Collecting lockfile<0.13.0,>=0.12.2\n",
            "  Downloading lockfile-0.12.2-py2.py3-none-any.whl (13 kB)\n",
            "Requirement already satisfied: ipython<8.0.0,>=7.0.0 in /usr/local/lib/python3.8/dist-packages (from giskard) (7.9.0)\n",
            "Requirement already satisfied: protobuf<4.0.0,>=3.9.2 in /usr/local/lib/python3.8/dist-packages (from giskard) (3.19.6)\n",
            "Collecting soupsieve>1.2\n",
            "  Downloading soupsieve-2.4-py3-none-any.whl (37 kB)\n",
            "Requirement already satisfied: attrs>17.1.0 in /usr/local/lib/python3.8/dist-packages (from eli5<0.14.0,>=0.13.0->giskard) (22.2.0)\n",
            "Collecting jinja2>=3.0.0\n",
            "  Downloading Jinja2-3.1.2-py3-none-any.whl (133 kB)\n",
            "\u001b[2K     \u001b[90m━━━━━━━━━━━━━━━━━━━━━━━━━━━━━━━━━━━━━━━\u001b[0m \u001b[32m133.1/133.1 KB\u001b[0m \u001b[31m7.2 MB/s\u001b[0m eta \u001b[36m0:00:00\u001b[0m\n",
            "\u001b[?25hRequirement already satisfied: six in /usr/local/lib/python3.8/dist-packages (from eli5<0.14.0,>=0.13.0->giskard) (1.15.0)\n",
            "Requirement already satisfied: graphviz in /usr/local/lib/python3.8/dist-packages (from eli5<0.14.0,>=0.13.0->giskard) (0.10.1)\n",
            "Requirement already satisfied: tabulate>=0.7.7 in /usr/local/lib/python3.8/dist-packages (from eli5<0.14.0,>=0.13.0->giskard) (0.8.10)\n",
            "Requirement already satisfied: googleapis-common-protos>=1.5.5 in /usr/local/lib/python3.8/dist-packages (from grpcio-status<2.0.0,>=1.46.3->giskard) (1.58.0)\n",
            "Requirement already satisfied: zipp>=0.5 in /usr/local/lib/python3.8/dist-packages (from importlib_metadata<5.0.0,>=4.11.4->giskard) (3.14.0)\n",
            "Requirement already satisfied: pexpect in /usr/local/lib/python3.8/dist-packages (from ipython<8.0.0,>=7.0.0->giskard) (4.8.0)\n",
            "Requirement already satisfied: decorator in /usr/local/lib/python3.8/dist-packages (from ipython<8.0.0,>=7.0.0->giskard) (4.4.2)\n",
            "Requirement already satisfied: pickleshare in /usr/local/lib/python3.8/dist-packages (from ipython<8.0.0,>=7.0.0->giskard) (0.7.5)\n",
            "Requirement already satisfied: pygments in /usr/local/lib/python3.8/dist-packages (from ipython<8.0.0,>=7.0.0->giskard) (2.6.1)\n",
            "Requirement already satisfied: backcall in /usr/local/lib/python3.8/dist-packages (from ipython<8.0.0,>=7.0.0->giskard) (0.2.0)\n",
            "Collecting jedi>=0.10\n",
            "  Downloading jedi-0.18.2-py2.py3-none-any.whl (1.6 MB)\n",
            "\u001b[2K     \u001b[90m━━━━━━━━━━━━━━━━━━━━━━━━━━━━━━━━━━━━━━━━\u001b[0m \u001b[32m1.6/1.6 MB\u001b[0m \u001b[31m23.3 MB/s\u001b[0m eta \u001b[36m0:00:00\u001b[0m\n",
            "\u001b[?25hRequirement already satisfied: traitlets>=4.2 in /usr/local/lib/python3.8/dist-packages (from ipython<8.0.0,>=7.0.0->giskard) (5.7.1)\n",
            "Requirement already satisfied: prompt-toolkit<2.1.0,>=2.0.0 in /usr/local/lib/python3.8/dist-packages (from ipython<8.0.0,>=7.0.0->giskard) (2.0.10)\n",
            "Requirement already satisfied: urllib3 in /usr/local/lib/python3.8/dist-packages (from mixpanel<5.0.0,>=4.10.0->giskard) (1.24.3)\n",
            "Requirement already satisfied: pytz>=2017.3 in /usr/local/lib/python3.8/dist-packages (from pandas<2.0.0,>=1.3.5->giskard) (2022.7.1)\n",
            "Requirement already satisfied: python-dateutil>=2.7.3 in /usr/local/lib/python3.8/dist-packages (from pandas<2.0.0,>=1.3.5->giskard) (2.8.2)\n",
            "Requirement already satisfied: typing-extensions>=4.2.0 in /usr/local/lib/python3.8/dist-packages (from pydantic<2.0.0,>=1.10.2->giskard) (4.5.0)\n",
            "Requirement already satisfied: docutils in /usr/local/lib/python3.8/dist-packages (from python-daemon<3.0.0,>=2.3.1->giskard) (0.16)\n",
            "Requirement already satisfied: charset-normalizer<4,>=2 in /usr/local/lib/python3.8/dist-packages (from requests<3.0.0,>=2.28.1->giskard) (3.0.1)\n",
            "Requirement already satisfied: certifi>=2017.4.17 in /usr/local/lib/python3.8/dist-packages (from requests<3.0.0,>=2.28.1->giskard) (2022.12.7)\n",
            "Requirement already satisfied: idna<4,>=2.5 in /usr/local/lib/python3.8/dist-packages (from requests<3.0.0,>=2.28.1->giskard) (2.10)\n",
            "Requirement already satisfied: joblib>=0.11 in /usr/local/lib/python3.8/dist-packages (from scikit-learn<1.1.0,>=1.0.0->giskard) (1.2.0)\n",
            "Requirement already satisfied: threadpoolctl>=2.0.0 in /usr/local/lib/python3.8/dist-packages (from scikit-learn<1.1.0,>=1.0.0->giskard) (3.1.0)\n",
            "Requirement already satisfied: packaging>20.9 in /usr/local/lib/python3.8/dist-packages (from shap<0.42.0,>=0.41.0->giskard) (23.0)\n",
            "Collecting slicer==0.0.7\n",
            "  Downloading slicer-0.0.7-py3-none-any.whl (14 kB)\n",
            "Requirement already satisfied: numba in /usr/local/lib/python3.8/dist-packages (from shap<0.42.0,>=0.41.0->giskard) (0.56.4)\n",
            "Requirement already satisfied: parso<0.9.0,>=0.8.0 in /usr/local/lib/python3.8/dist-packages (from jedi>=0.10->ipython<8.0.0,>=7.0.0->giskard) (0.8.3)\n",
            "Requirement already satisfied: MarkupSafe>=2.0 in /usr/local/lib/python3.8/dist-packages (from jinja2>=3.0.0->eli5<0.14.0,>=0.13.0->giskard) (2.0.1)\n",
            "Requirement already satisfied: wcwidth in /usr/local/lib/python3.8/dist-packages (from prompt-toolkit<2.1.0,>=2.0.0->ipython<8.0.0,>=7.0.0->giskard) (0.2.6)\n",
            "Requirement already satisfied: llvmlite<0.40,>=0.39.0dev0 in /usr/local/lib/python3.8/dist-packages (from numba->shap<0.42.0,>=0.41.0->giskard) (0.39.1)\n",
            "Requirement already satisfied: ptyprocess>=0.5 in /usr/local/lib/python3.8/dist-packages (from pexpect->ipython<8.0.0,>=7.0.0->giskard) (0.7.0)\n",
            "Building wheels for collected packages: eli5\n",
            "  Building wheel for eli5 (setup.py) ... \u001b[?25l\u001b[?25hdone\n",
            "  Created wheel for eli5: filename=eli5-0.13.0-py2.py3-none-any.whl size=107748 sha256=a45ff844244629c28c15bf54a99c94a1b8bd2d6ad570ae6cb1fad688124273d5\n",
            "  Stored in directory: /root/.cache/pip/wheels/85/ac/25/ffcd87ef8f9b1eec324fdf339359be71f22612459d8c75d89c\n",
            "Successfully built eli5\n",
            "Installing collected packages: lockfile, zstandard, soupsieve, slicer, setuptools, requests, psutil, numpy, jinja2, jedi, importlib_metadata, click, requests-toolbelt, python-daemon, mixpanel, beautifulsoup4, shap, eli5, giskard\n",
            "  Attempting uninstall: setuptools\n",
            "    Found existing installation: setuptools 57.4.0\n",
            "    Uninstalling setuptools-57.4.0:\n",
            "      Successfully uninstalled setuptools-57.4.0\n",
            "  Attempting uninstall: requests\n",
            "    Found existing installation: requests 2.25.1\n",
            "    Uninstalling requests-2.25.1:\n",
            "      Successfully uninstalled requests-2.25.1\n",
            "  Attempting uninstall: psutil\n",
            "    Found existing installation: psutil 5.4.8\n",
            "    Uninstalling psutil-5.4.8:\n",
            "      Successfully uninstalled psutil-5.4.8\n",
            "  Attempting uninstall: numpy\n",
            "    Found existing installation: numpy 1.22.4\n",
            "    Uninstalling numpy-1.22.4:\n",
            "      Successfully uninstalled numpy-1.22.4\n",
            "  Attempting uninstall: jinja2\n",
            "    Found existing installation: Jinja2 2.11.3\n",
            "    Uninstalling Jinja2-2.11.3:\n",
            "      Successfully uninstalled Jinja2-2.11.3\n",
            "  Attempting uninstall: importlib_metadata\n",
            "    Found existing installation: importlib-metadata 6.0.0\n",
            "    Uninstalling importlib-metadata-6.0.0:\n",
            "      Successfully uninstalled importlib-metadata-6.0.0\n",
            "  Attempting uninstall: click\n",
            "    Found existing installation: click 7.1.2\n",
            "    Uninstalling click-7.1.2:\n",
            "      Successfully uninstalled click-7.1.2\n",
            "  Attempting uninstall: beautifulsoup4\n",
            "    Found existing installation: beautifulsoup4 4.6.3\n",
            "    Uninstalling beautifulsoup4-4.6.3:\n",
            "      Successfully uninstalled beautifulsoup4-4.6.3\n",
            "\u001b[31mERROR: pip's dependency resolver does not currently take into account all the packages that are installed. This behaviour is the source of the following dependency conflicts.\n",
            "flask 1.1.4 requires click<8.0,>=5.1, but you have click 8.1.3 which is incompatible.\n",
            "flask 1.1.4 requires Jinja2<3.0,>=2.10.1, but you have jinja2 3.1.2 which is incompatible.\n",
            "cvxpy 1.2.3 requires setuptools<=64.0.2, but you have setuptools 67.4.0 which is incompatible.\u001b[0m\u001b[31m\n",
            "\u001b[0mSuccessfully installed beautifulsoup4-4.11.2 click-8.1.3 eli5-0.13.0 giskard-1.8.0 importlib_metadata-4.13.0 jedi-0.18.2 jinja2-3.1.2 lockfile-0.12.2 mixpanel-4.10.0 numpy-1.21.6 psutil-5.9.4 python-daemon-2.3.2 requests-2.28.2 requests-toolbelt-0.9.1 setuptools-67.4.0 shap-0.41.0 slicer-0.0.7 soupsieve-2.4 zstandard-0.15.2\n"
          ]
        }
      ],
      "source": [
        "!pip install giskard"
      ]
    },
    {
      "cell_type": "markdown",
      "metadata": {
        "id": "CMrOPKH4XIsI"
      },
      "source": [
        "## Connect the external worker in daemon mode"
      ]
    },
    {
      "cell_type": "code",
      "execution_count": null,
      "metadata": {
        "colab": {
          "base_uri": "https://localhost:8080/"
        },
        "id": "S06_tWa8XIsI",
        "outputId": "8c9807a1-8a80-4b5b-9374-535f1a5494de"
      },
      "outputs": [
        {
          "output_type": "stream",
          "name": "stdout",
          "text": [
            "2023-02-24 12:19:42,921 pid:430 MainThread giskard.cli  INFO     Starting ML Worker client daemon\n",
            "2023-02-24 12:19:42,922 pid:430 MainThread giskard.cli  INFO     Python: /usr/bin/python3 (3.8.10)\n",
            "2023-02-24 12:19:42,922 pid:430 MainThread giskard.cli  INFO     Giskard Home: /root/giskard-home\n",
            "2023-02-24 12:19:42,922 pid:430 MainThread giskard.cli_utils INFO     Writing logs to /root/giskard-home/run/ml-worker.log\n"
          ]
        }
      ],
      "source": [
        "!giskard worker start -d"
      ]
    },
    {
      "cell_type": "markdown",
      "metadata": {
        "cell_id": "f35c8e8d3fbf4c0f9c01a69673c318a1",
        "deepnote_app_coordinates": {
          "h": 5,
          "w": 12,
          "x": 0,
          "y": 6
        },
        "deepnote_cell_height": 110,
        "deepnote_cell_type": "markdown",
        "id": "mJTqM-W_7xbW",
        "owner_user_id": "41ec0844-b5b7-49c2-9460-710a452f98de",
        "pycharm": {
          "name": "#%% md\n"
        },
        "tags": []
      },
      "source": [
        "# Start by creating an ML model 🚀🚀🚀"
      ]
    },
    {
      "cell_type": "markdown",
      "metadata": {
        "cell_id": "e8d609f32d5243dd917cc3104599b8d8",
        "deepnote_app_coordinates": {
          "h": 5,
          "w": 12,
          "x": 0,
          "y": 12
        },
        "deepnote_cell_height": 230,
        "deepnote_cell_type": "markdown",
        "id": "WNI85koE7xbX",
        "pycharm": {
          "name": "#%% md\n"
        },
        "tags": []
      },
      "source": [
        "Let's create a credit scoring Model using the German Credit scoring dataset [(Link](https://github.com/Giskard-AI/giskard-client/tree/main/sample_data/classification) to download the dataset)"
      ]
    },
    {
      "cell_type": "code",
      "execution_count": 2,
      "metadata": {
        "cell_id": "1d7f5390-3fb1-47b9-8488-7a55e5b465f9",
        "deepnote_app_coordinates": {
          "h": 5,
          "w": 12,
          "x": 0,
          "y": 18
        },
        "deepnote_cell_height": 315,
        "deepnote_cell_type": "code",
        "deepnote_to_be_reexecuted": false,
        "execution_millis": 798,
        "execution_start": 1652125164139,
        "id": "xEfe0KIo7xbX",
        "pycharm": {
          "name": "#%%\n"
        },
        "source_hash": "e81d6069",
        "tags": []
      },
      "outputs": [],
      "source": [
        "import pandas as pd\n",
        "\n",
        "from sklearn import model_selection\n",
        "from sklearn.preprocessing import StandardScaler\n",
        "from sklearn.preprocessing import OneHotEncoder\n",
        "from sklearn.linear_model import LogisticRegression\n",
        "from sklearn.ensemble import RandomForestClassifier\n",
        "from sklearn.pipeline import Pipeline\n",
        "from sklearn.impute import SimpleImputer\n",
        "from sklearn.compose import ColumnTransformer"
      ]
    },
    {
      "cell_type": "code",
      "execution_count": 3,
      "metadata": {
        "pycharm": {
          "name": "#%%\n"
        },
        "id": "qrdYTaQQXIsL"
      },
      "outputs": [],
      "source": [
        "# To download and read the credit scoring dataset\n",
        "url = 'https://raw.githubusercontent.com/Giskard-AI/examples/main/datasets/credit_scoring_classification_model_dataset/german_credit_prepared.csv'\n",
        "credit = pd.read_csv(url, sep=',',engine=\"python\") #To download go to https://github.com/Giskard-AI/giskard-client/tree/main/sample_data/classification"
      ]
    },
    {
      "cell_type": "code",
      "source": [
        "credit"
      ],
      "metadata": {
        "colab": {
          "base_uri": "https://localhost:8080/",
          "height": 1000
        },
        "id": "CMkATv-1ZCqE",
        "outputId": "9c3f0d50-0ffc-4dc1-fd9e-c54210562747"
      },
      "execution_count": 4,
      "outputs": [
        {
          "output_type": "execute_result",
          "data": {
            "text/plain": [
              "         default account_check_status  duration_in_month  \\\n",
              "0    Not default               < 0 DM                  6   \n",
              "1        Default    0 <= ... < 200 DM                 48   \n",
              "2    Not default  no checking account                 12   \n",
              "3    Not default               < 0 DM                 42   \n",
              "4        Default               < 0 DM                 24   \n",
              "..           ...                  ...                ...   \n",
              "995  Not default  no checking account                 12   \n",
              "996  Not default               < 0 DM                 30   \n",
              "997  Not default  no checking account                 12   \n",
              "998      Default               < 0 DM                 45   \n",
              "999  Not default    0 <= ... < 200 DM                 45   \n",
              "\n",
              "                                        credit_history  \\\n",
              "0    critical account/ other credits existing (not ...   \n",
              "1             existing credits paid back duly till now   \n",
              "2    critical account/ other credits existing (not ...   \n",
              "3             existing credits paid back duly till now   \n",
              "4                      delay in paying off in the past   \n",
              "..                                                 ...   \n",
              "995           existing credits paid back duly till now   \n",
              "996           existing credits paid back duly till now   \n",
              "997           existing credits paid back duly till now   \n",
              "998           existing credits paid back duly till now   \n",
              "999  critical account/ other credits existing (not ...   \n",
              "\n",
              "                          purpose  credit_amount                      savings  \\\n",
              "0             domestic appliances           1169  unknown/ no savings account   \n",
              "1             domestic appliances           5951                 ... < 100 DM   \n",
              "2    (vacation - does not exist?)           2096                 ... < 100 DM   \n",
              "3                radio/television           7882                 ... < 100 DM   \n",
              "4                       car (new)           4870                 ... < 100 DM   \n",
              "..                            ...            ...                          ...   \n",
              "995              radio/television           1736                 ... < 100 DM   \n",
              "996                    car (used)           3857                 ... < 100 DM   \n",
              "997           domestic appliances            804                 ... < 100 DM   \n",
              "998           domestic appliances           1845                 ... < 100 DM   \n",
              "999                    car (used)           4576          100 <= ... < 500 DM   \n",
              "\n",
              "    present_employment_since  installment_as_income_perc     sex  ...  \\\n",
              "0              .. >= 7 years                           4    male  ...   \n",
              "1         1 <= ... < 4 years                           2  female  ...   \n",
              "2         4 <= ... < 7 years                           2    male  ...   \n",
              "3         4 <= ... < 7 years                           2    male  ...   \n",
              "4         1 <= ... < 4 years                           3    male  ...   \n",
              "..                       ...                         ...     ...  ...   \n",
              "995       4 <= ... < 7 years                           3  female  ...   \n",
              "996       1 <= ... < 4 years                           4    male  ...   \n",
              "997            .. >= 7 years                           4    male  ...   \n",
              "998       1 <= ... < 4 years                           4    male  ...   \n",
              "999               unemployed                           3    male  ...   \n",
              "\n",
              "    present_residence_since  \\\n",
              "0                         4   \n",
              "1                         2   \n",
              "2                         3   \n",
              "3                         4   \n",
              "4                         4   \n",
              "..                      ...   \n",
              "995                       4   \n",
              "996                       4   \n",
              "997                       4   \n",
              "998                       4   \n",
              "999                       4   \n",
              "\n",
              "                                              property  age  \\\n",
              "0                                          real estate   67   \n",
              "1                                          real estate   22   \n",
              "2                                          real estate   49   \n",
              "3    if not A121 : building society savings agreeme...   45   \n",
              "4                                unknown / no property   53   \n",
              "..                                                 ...  ...   \n",
              "995                                        real estate   31   \n",
              "996  if not A121 : building society savings agreeme...   40   \n",
              "997  if not A121/A122 : car or other, not in attrib...   38   \n",
              "998                              unknown / no property   23   \n",
              "999  if not A121/A122 : car or other, not in attrib...   27   \n",
              "\n",
              "    other_installment_plans   housing credits_this_bank  \\\n",
              "0                      none       own                 2   \n",
              "1                      none       own                 1   \n",
              "2                      none       own                 1   \n",
              "3                      none  for free                 1   \n",
              "4                      none  for free                 2   \n",
              "..                      ...       ...               ...   \n",
              "995                    none       own                 1   \n",
              "996                    none       own                 1   \n",
              "997                    none       own                 1   \n",
              "998                    none  for free                 1   \n",
              "999                    none       own                 1   \n",
              "\n",
              "                                                   job  \\\n",
              "0                          skilled employee / official   \n",
              "1                          skilled employee / official   \n",
              "2                                 unskilled - resident   \n",
              "3                          skilled employee / official   \n",
              "4                          skilled employee / official   \n",
              "..                                                 ...   \n",
              "995                               unskilled - resident   \n",
              "996  management/ self-employed/ highly qualified em...   \n",
              "997                        skilled employee / official   \n",
              "998                        skilled employee / official   \n",
              "999                        skilled employee / official   \n",
              "\n",
              "     people_under_maintenance                                 telephone  \\\n",
              "0                           1  yes, registered under the customers name   \n",
              "1                           1                                      none   \n",
              "2                           2                                      none   \n",
              "3                           2                                      none   \n",
              "4                           2                                      none   \n",
              "..                        ...                                       ...   \n",
              "995                         1                                      none   \n",
              "996                         1  yes, registered under the customers name   \n",
              "997                         1                                      none   \n",
              "998                         1  yes, registered under the customers name   \n",
              "999                         1                                      none   \n",
              "\n",
              "     foreign_worker  \n",
              "0               yes  \n",
              "1               yes  \n",
              "2               yes  \n",
              "3               yes  \n",
              "4               yes  \n",
              "..              ...  \n",
              "995             yes  \n",
              "996             yes  \n",
              "997             yes  \n",
              "998             yes  \n",
              "999             yes  \n",
              "\n",
              "[1000 rows x 22 columns]"
            ],
            "text/html": [
              "\n",
              "  <div id=\"df-c0c9aeb6-c530-4961-99af-a2bcf8547137\">\n",
              "    <div class=\"colab-df-container\">\n",
              "      <div>\n",
              "<style scoped>\n",
              "    .dataframe tbody tr th:only-of-type {\n",
              "        vertical-align: middle;\n",
              "    }\n",
              "\n",
              "    .dataframe tbody tr th {\n",
              "        vertical-align: top;\n",
              "    }\n",
              "\n",
              "    .dataframe thead th {\n",
              "        text-align: right;\n",
              "    }\n",
              "</style>\n",
              "<table border=\"1\" class=\"dataframe\">\n",
              "  <thead>\n",
              "    <tr style=\"text-align: right;\">\n",
              "      <th></th>\n",
              "      <th>default</th>\n",
              "      <th>account_check_status</th>\n",
              "      <th>duration_in_month</th>\n",
              "      <th>credit_history</th>\n",
              "      <th>purpose</th>\n",
              "      <th>credit_amount</th>\n",
              "      <th>savings</th>\n",
              "      <th>present_employment_since</th>\n",
              "      <th>installment_as_income_perc</th>\n",
              "      <th>sex</th>\n",
              "      <th>...</th>\n",
              "      <th>present_residence_since</th>\n",
              "      <th>property</th>\n",
              "      <th>age</th>\n",
              "      <th>other_installment_plans</th>\n",
              "      <th>housing</th>\n",
              "      <th>credits_this_bank</th>\n",
              "      <th>job</th>\n",
              "      <th>people_under_maintenance</th>\n",
              "      <th>telephone</th>\n",
              "      <th>foreign_worker</th>\n",
              "    </tr>\n",
              "  </thead>\n",
              "  <tbody>\n",
              "    <tr>\n",
              "      <th>0</th>\n",
              "      <td>Not default</td>\n",
              "      <td>&lt; 0 DM</td>\n",
              "      <td>6</td>\n",
              "      <td>critical account/ other credits existing (not ...</td>\n",
              "      <td>domestic appliances</td>\n",
              "      <td>1169</td>\n",
              "      <td>unknown/ no savings account</td>\n",
              "      <td>.. &gt;= 7 years</td>\n",
              "      <td>4</td>\n",
              "      <td>male</td>\n",
              "      <td>...</td>\n",
              "      <td>4</td>\n",
              "      <td>real estate</td>\n",
              "      <td>67</td>\n",
              "      <td>none</td>\n",
              "      <td>own</td>\n",
              "      <td>2</td>\n",
              "      <td>skilled employee / official</td>\n",
              "      <td>1</td>\n",
              "      <td>yes, registered under the customers name</td>\n",
              "      <td>yes</td>\n",
              "    </tr>\n",
              "    <tr>\n",
              "      <th>1</th>\n",
              "      <td>Default</td>\n",
              "      <td>0 &lt;= ... &lt; 200 DM</td>\n",
              "      <td>48</td>\n",
              "      <td>existing credits paid back duly till now</td>\n",
              "      <td>domestic appliances</td>\n",
              "      <td>5951</td>\n",
              "      <td>... &lt; 100 DM</td>\n",
              "      <td>1 &lt;= ... &lt; 4 years</td>\n",
              "      <td>2</td>\n",
              "      <td>female</td>\n",
              "      <td>...</td>\n",
              "      <td>2</td>\n",
              "      <td>real estate</td>\n",
              "      <td>22</td>\n",
              "      <td>none</td>\n",
              "      <td>own</td>\n",
              "      <td>1</td>\n",
              "      <td>skilled employee / official</td>\n",
              "      <td>1</td>\n",
              "      <td>none</td>\n",
              "      <td>yes</td>\n",
              "    </tr>\n",
              "    <tr>\n",
              "      <th>2</th>\n",
              "      <td>Not default</td>\n",
              "      <td>no checking account</td>\n",
              "      <td>12</td>\n",
              "      <td>critical account/ other credits existing (not ...</td>\n",
              "      <td>(vacation - does not exist?)</td>\n",
              "      <td>2096</td>\n",
              "      <td>... &lt; 100 DM</td>\n",
              "      <td>4 &lt;= ... &lt; 7 years</td>\n",
              "      <td>2</td>\n",
              "      <td>male</td>\n",
              "      <td>...</td>\n",
              "      <td>3</td>\n",
              "      <td>real estate</td>\n",
              "      <td>49</td>\n",
              "      <td>none</td>\n",
              "      <td>own</td>\n",
              "      <td>1</td>\n",
              "      <td>unskilled - resident</td>\n",
              "      <td>2</td>\n",
              "      <td>none</td>\n",
              "      <td>yes</td>\n",
              "    </tr>\n",
              "    <tr>\n",
              "      <th>3</th>\n",
              "      <td>Not default</td>\n",
              "      <td>&lt; 0 DM</td>\n",
              "      <td>42</td>\n",
              "      <td>existing credits paid back duly till now</td>\n",
              "      <td>radio/television</td>\n",
              "      <td>7882</td>\n",
              "      <td>... &lt; 100 DM</td>\n",
              "      <td>4 &lt;= ... &lt; 7 years</td>\n",
              "      <td>2</td>\n",
              "      <td>male</td>\n",
              "      <td>...</td>\n",
              "      <td>4</td>\n",
              "      <td>if not A121 : building society savings agreeme...</td>\n",
              "      <td>45</td>\n",
              "      <td>none</td>\n",
              "      <td>for free</td>\n",
              "      <td>1</td>\n",
              "      <td>skilled employee / official</td>\n",
              "      <td>2</td>\n",
              "      <td>none</td>\n",
              "      <td>yes</td>\n",
              "    </tr>\n",
              "    <tr>\n",
              "      <th>4</th>\n",
              "      <td>Default</td>\n",
              "      <td>&lt; 0 DM</td>\n",
              "      <td>24</td>\n",
              "      <td>delay in paying off in the past</td>\n",
              "      <td>car (new)</td>\n",
              "      <td>4870</td>\n",
              "      <td>... &lt; 100 DM</td>\n",
              "      <td>1 &lt;= ... &lt; 4 years</td>\n",
              "      <td>3</td>\n",
              "      <td>male</td>\n",
              "      <td>...</td>\n",
              "      <td>4</td>\n",
              "      <td>unknown / no property</td>\n",
              "      <td>53</td>\n",
              "      <td>none</td>\n",
              "      <td>for free</td>\n",
              "      <td>2</td>\n",
              "      <td>skilled employee / official</td>\n",
              "      <td>2</td>\n",
              "      <td>none</td>\n",
              "      <td>yes</td>\n",
              "    </tr>\n",
              "    <tr>\n",
              "      <th>...</th>\n",
              "      <td>...</td>\n",
              "      <td>...</td>\n",
              "      <td>...</td>\n",
              "      <td>...</td>\n",
              "      <td>...</td>\n",
              "      <td>...</td>\n",
              "      <td>...</td>\n",
              "      <td>...</td>\n",
              "      <td>...</td>\n",
              "      <td>...</td>\n",
              "      <td>...</td>\n",
              "      <td>...</td>\n",
              "      <td>...</td>\n",
              "      <td>...</td>\n",
              "      <td>...</td>\n",
              "      <td>...</td>\n",
              "      <td>...</td>\n",
              "      <td>...</td>\n",
              "      <td>...</td>\n",
              "      <td>...</td>\n",
              "      <td>...</td>\n",
              "    </tr>\n",
              "    <tr>\n",
              "      <th>995</th>\n",
              "      <td>Not default</td>\n",
              "      <td>no checking account</td>\n",
              "      <td>12</td>\n",
              "      <td>existing credits paid back duly till now</td>\n",
              "      <td>radio/television</td>\n",
              "      <td>1736</td>\n",
              "      <td>... &lt; 100 DM</td>\n",
              "      <td>4 &lt;= ... &lt; 7 years</td>\n",
              "      <td>3</td>\n",
              "      <td>female</td>\n",
              "      <td>...</td>\n",
              "      <td>4</td>\n",
              "      <td>real estate</td>\n",
              "      <td>31</td>\n",
              "      <td>none</td>\n",
              "      <td>own</td>\n",
              "      <td>1</td>\n",
              "      <td>unskilled - resident</td>\n",
              "      <td>1</td>\n",
              "      <td>none</td>\n",
              "      <td>yes</td>\n",
              "    </tr>\n",
              "    <tr>\n",
              "      <th>996</th>\n",
              "      <td>Not default</td>\n",
              "      <td>&lt; 0 DM</td>\n",
              "      <td>30</td>\n",
              "      <td>existing credits paid back duly till now</td>\n",
              "      <td>car (used)</td>\n",
              "      <td>3857</td>\n",
              "      <td>... &lt; 100 DM</td>\n",
              "      <td>1 &lt;= ... &lt; 4 years</td>\n",
              "      <td>4</td>\n",
              "      <td>male</td>\n",
              "      <td>...</td>\n",
              "      <td>4</td>\n",
              "      <td>if not A121 : building society savings agreeme...</td>\n",
              "      <td>40</td>\n",
              "      <td>none</td>\n",
              "      <td>own</td>\n",
              "      <td>1</td>\n",
              "      <td>management/ self-employed/ highly qualified em...</td>\n",
              "      <td>1</td>\n",
              "      <td>yes, registered under the customers name</td>\n",
              "      <td>yes</td>\n",
              "    </tr>\n",
              "    <tr>\n",
              "      <th>997</th>\n",
              "      <td>Not default</td>\n",
              "      <td>no checking account</td>\n",
              "      <td>12</td>\n",
              "      <td>existing credits paid back duly till now</td>\n",
              "      <td>domestic appliances</td>\n",
              "      <td>804</td>\n",
              "      <td>... &lt; 100 DM</td>\n",
              "      <td>.. &gt;= 7 years</td>\n",
              "      <td>4</td>\n",
              "      <td>male</td>\n",
              "      <td>...</td>\n",
              "      <td>4</td>\n",
              "      <td>if not A121/A122 : car or other, not in attrib...</td>\n",
              "      <td>38</td>\n",
              "      <td>none</td>\n",
              "      <td>own</td>\n",
              "      <td>1</td>\n",
              "      <td>skilled employee / official</td>\n",
              "      <td>1</td>\n",
              "      <td>none</td>\n",
              "      <td>yes</td>\n",
              "    </tr>\n",
              "    <tr>\n",
              "      <th>998</th>\n",
              "      <td>Default</td>\n",
              "      <td>&lt; 0 DM</td>\n",
              "      <td>45</td>\n",
              "      <td>existing credits paid back duly till now</td>\n",
              "      <td>domestic appliances</td>\n",
              "      <td>1845</td>\n",
              "      <td>... &lt; 100 DM</td>\n",
              "      <td>1 &lt;= ... &lt; 4 years</td>\n",
              "      <td>4</td>\n",
              "      <td>male</td>\n",
              "      <td>...</td>\n",
              "      <td>4</td>\n",
              "      <td>unknown / no property</td>\n",
              "      <td>23</td>\n",
              "      <td>none</td>\n",
              "      <td>for free</td>\n",
              "      <td>1</td>\n",
              "      <td>skilled employee / official</td>\n",
              "      <td>1</td>\n",
              "      <td>yes, registered under the customers name</td>\n",
              "      <td>yes</td>\n",
              "    </tr>\n",
              "    <tr>\n",
              "      <th>999</th>\n",
              "      <td>Not default</td>\n",
              "      <td>0 &lt;= ... &lt; 200 DM</td>\n",
              "      <td>45</td>\n",
              "      <td>critical account/ other credits existing (not ...</td>\n",
              "      <td>car (used)</td>\n",
              "      <td>4576</td>\n",
              "      <td>100 &lt;= ... &lt; 500 DM</td>\n",
              "      <td>unemployed</td>\n",
              "      <td>3</td>\n",
              "      <td>male</td>\n",
              "      <td>...</td>\n",
              "      <td>4</td>\n",
              "      <td>if not A121/A122 : car or other, not in attrib...</td>\n",
              "      <td>27</td>\n",
              "      <td>none</td>\n",
              "      <td>own</td>\n",
              "      <td>1</td>\n",
              "      <td>skilled employee / official</td>\n",
              "      <td>1</td>\n",
              "      <td>none</td>\n",
              "      <td>yes</td>\n",
              "    </tr>\n",
              "  </tbody>\n",
              "</table>\n",
              "<p>1000 rows × 22 columns</p>\n",
              "</div>\n",
              "      <button class=\"colab-df-convert\" onclick=\"convertToInteractive('df-c0c9aeb6-c530-4961-99af-a2bcf8547137')\"\n",
              "              title=\"Convert this dataframe to an interactive table.\"\n",
              "              style=\"display:none;\">\n",
              "        \n",
              "  <svg xmlns=\"http://www.w3.org/2000/svg\" height=\"24px\"viewBox=\"0 0 24 24\"\n",
              "       width=\"24px\">\n",
              "    <path d=\"M0 0h24v24H0V0z\" fill=\"none\"/>\n",
              "    <path d=\"M18.56 5.44l.94 2.06.94-2.06 2.06-.94-2.06-.94-.94-2.06-.94 2.06-2.06.94zm-11 1L8.5 8.5l.94-2.06 2.06-.94-2.06-.94L8.5 2.5l-.94 2.06-2.06.94zm10 10l.94 2.06.94-2.06 2.06-.94-2.06-.94-.94-2.06-.94 2.06-2.06.94z\"/><path d=\"M17.41 7.96l-1.37-1.37c-.4-.4-.92-.59-1.43-.59-.52 0-1.04.2-1.43.59L10.3 9.45l-7.72 7.72c-.78.78-.78 2.05 0 2.83L4 21.41c.39.39.9.59 1.41.59.51 0 1.02-.2 1.41-.59l7.78-7.78 2.81-2.81c.8-.78.8-2.07 0-2.86zM5.41 20L4 18.59l7.72-7.72 1.47 1.35L5.41 20z\"/>\n",
              "  </svg>\n",
              "      </button>\n",
              "      \n",
              "  <style>\n",
              "    .colab-df-container {\n",
              "      display:flex;\n",
              "      flex-wrap:wrap;\n",
              "      gap: 12px;\n",
              "    }\n",
              "\n",
              "    .colab-df-convert {\n",
              "      background-color: #E8F0FE;\n",
              "      border: none;\n",
              "      border-radius: 50%;\n",
              "      cursor: pointer;\n",
              "      display: none;\n",
              "      fill: #1967D2;\n",
              "      height: 32px;\n",
              "      padding: 0 0 0 0;\n",
              "      width: 32px;\n",
              "    }\n",
              "\n",
              "    .colab-df-convert:hover {\n",
              "      background-color: #E2EBFA;\n",
              "      box-shadow: 0px 1px 2px rgba(60, 64, 67, 0.3), 0px 1px 3px 1px rgba(60, 64, 67, 0.15);\n",
              "      fill: #174EA6;\n",
              "    }\n",
              "\n",
              "    [theme=dark] .colab-df-convert {\n",
              "      background-color: #3B4455;\n",
              "      fill: #D2E3FC;\n",
              "    }\n",
              "\n",
              "    [theme=dark] .colab-df-convert:hover {\n",
              "      background-color: #434B5C;\n",
              "      box-shadow: 0px 1px 3px 1px rgba(0, 0, 0, 0.15);\n",
              "      filter: drop-shadow(0px 1px 2px rgba(0, 0, 0, 0.3));\n",
              "      fill: #FFFFFF;\n",
              "    }\n",
              "  </style>\n",
              "\n",
              "      <script>\n",
              "        const buttonEl =\n",
              "          document.querySelector('#df-c0c9aeb6-c530-4961-99af-a2bcf8547137 button.colab-df-convert');\n",
              "        buttonEl.style.display =\n",
              "          google.colab.kernel.accessAllowed ? 'block' : 'none';\n",
              "\n",
              "        async function convertToInteractive(key) {\n",
              "          const element = document.querySelector('#df-c0c9aeb6-c530-4961-99af-a2bcf8547137');\n",
              "          const dataTable =\n",
              "            await google.colab.kernel.invokeFunction('convertToInteractive',\n",
              "                                                     [key], {});\n",
              "          if (!dataTable) return;\n",
              "\n",
              "          const docLinkHtml = 'Like what you see? Visit the ' +\n",
              "            '<a target=\"_blank\" href=https://colab.research.google.com/notebooks/data_table.ipynb>data table notebook</a>'\n",
              "            + ' to learn more about interactive tables.';\n",
              "          element.innerHTML = '';\n",
              "          dataTable['output_type'] = 'display_data';\n",
              "          await google.colab.output.renderOutput(dataTable, element);\n",
              "          const docLink = document.createElement('div');\n",
              "          docLink.innerHTML = docLinkHtml;\n",
              "          element.appendChild(docLink);\n",
              "        }\n",
              "      </script>\n",
              "    </div>\n",
              "  </div>\n",
              "  "
            ]
          },
          "metadata": {},
          "execution_count": 4
        }
      ]
    },
    {
      "cell_type": "code",
      "source": [
        "import matplotlib.pyplot as plt\n",
        "\n",
        "# Loop over each column in the DataFrame and create a histogram\n",
        "for col in credit.columns:\n",
        "    plt.figure(figsize=(20, 9))\n",
        "    plt.hist(credit[col])\n",
        "    plt.title(col)\n",
        "    plt.show()"
      ],
      "metadata": {
        "colab": {
          "base_uri": "https://localhost:8080/",
          "height": 1000
        },
        "id": "WWv33GIIXfFx",
        "outputId": "620080c5-bb53-48bb-f225-a3741bcc0c01"
      },
      "execution_count": 5,
      "outputs": [
        {
          "output_type": "display_data",
          "data": {
            "text/plain": [
              "<Figure size 1440x648 with 1 Axes>"
            ],
            "image/png": "[encoded data removed]"
          },
          "metadata": {
            "needs_background": "light"
          }
        },
        {
          "output_type": "display_data",
          "data": {
            "text/plain": [
              "<Figure size 1440x648 with 1 Axes>"
            ],
            "image/png": "[encoded data removed]"
          },
          "metadata": {
            "needs_background": "light"
          }
        },
        {
          "output_type": "display_data",
          "data": {
            "text/plain": [
              "<Figure size 1440x648 with 1 Axes>"
            ],
            "image/png": "[encoded data removed]"
          },
          "metadata": {
            "needs_background": "light"
          }
        },
        {
          "output_type": "display_data",
          "data": {
            "text/plain": [
              "<Figure size 1440x648 with 1 Axes>"
            ],
            "image/png": "[encoded data removed]"
          },
          "metadata": {
            "needs_background": "light"
          }
        },
        {
          "output_type": "display_data",
          "data": {
            "text/plain": [
              "<Figure size 1440x648 with 1 Axes>"
            ],
            "image/png": "[encoded data removed]"
          },
          "metadata": {
            "needs_background": "light"
          }
        },
        {
          "output_type": "display_data",
          "data": {
            "text/plain": [
              "<Figure size 1440x648 with 1 Axes>"
            ],
            "image/png": "[encoded data removed]"
          },
          "metadata": {
            "needs_background": "light"
          }
        },
        {
          "output_type": "display_data",
          "data": {
            "text/plain": [
              "<Figure size 1440x648 with 1 Axes>"
            ],
            "image/png": "[encoded data removed]"
          },
          "metadata": {
            "needs_background": "light"
          }
        },
        {
          "output_type": "display_data",
          "data": {
            "text/plain": [
              "<Figure size 1440x648 with 1 Axes>"
            ],
            "image/png": "[encoded data removed]"
          },
          "metadata": {
            "needs_background": "light"
          }
        },
        {
          "output_type": "display_data",
          "data": {
            "text/plain": [
              "<Figure size 1440x648 with 1 Axes>"
            ],
            "image/png": "[encoded data removed]"
          },
          "metadata": {
            "needs_background": "light"
          }
        },
        {
          "output_type": "display_data",
          "data": {
            "text/plain": [
              "<Figure size 1440x648 with 1 Axes>"
            ],
            "image/png": "[encoded data removed]"
          },
          "metadata": {
            "needs_background": "light"
          }
        },
        {
          "output_type": "display_data",
          "data": {
            "text/plain": [
              "<Figure size 1440x648 with 1 Axes>"
            ],
            "image/png": "[encoded data removed]"
          },
          "metadata": {
            "needs_background": "light"
          }
        },
        {
          "output_type": "display_data",
          "data": {
            "text/plain": [
              "<Figure size 1440x648 with 1 Axes>"
            ],
            "image/png": "[encoded data removed]"
          },
          "metadata": {
            "needs_background": "light"
          }
        },
        {
          "output_type": "display_data",
          "data": {
            "text/plain": [
              "<Figure size 1440x648 with 1 Axes>"
            ],
            "image/png": "[encoded data removed]"
          },
          "metadata": {
            "needs_background": "light"
          }
        },
        {
          "output_type": "display_data",
          "data": {
            "text/plain": [
              "<Figure size 1440x648 with 1 Axes>"
            ],
            "image/png": "[encoded data removed]"
          },
          "metadata": {
            "needs_background": "light"
          }
        },
        {
          "output_type": "display_data",
          "data": {
            "text/plain": [
              "<Figure size 1440x648 with 1 Axes>"
            ],
            "image/png": "[encoded data removed]"
          },
          "metadata": {
            "needs_background": "light"
          }
        },
        {
          "output_type": "display_data",
          "data": {
            "text/plain": [
              "<Figure size 1440x648 with 1 Axes>"
            ],
            "image/png": "[encoded data removed]"
          },
          "metadata": {
            "needs_background": "light"
          }
        },
        {
          "output_type": "display_data",
          "data": {
            "text/plain": [
              "<Figure size 1440x648 with 1 Axes>"
            ],
            "image/png": "[encoded data removed]"
          },
          "metadata": {
            "needs_background": "light"
          }
        },
        {
          "output_type": "display_data",
          "data": {
            "text/plain": [
              "<Figure size 1440x648 with 1 Axes>"
            ],
            "image/png": "[encoded data removed]"
          },
          "metadata": {
            "needs_background": "light"
          }
        },
        {
          "output_type": "display_data",
          "data": {
            "text/plain": [
              "<Figure size 1440x648 with 1 Axes>"
            ],
            "image/png": "[encoded data removed]"
          },
          "metadata": {
            "needs_background": "light"
          }
        },
        {
          "output_type": "display_data",
          "data": {
            "text/plain": [
              "<Figure size 1440x648 with 1 Axes>"
            ],
            "image/png": "[encoded data removed]"
          },
          "metadata": {
            "needs_background": "light"
          }
        },
        {
          "output_type": "display_data",
          "data": {
            "text/plain": [
              "<Figure size 1440x648 with 1 Axes>"
            ],
            "image/png": "[encoded data removed]"
          },
          "metadata": {
            "needs_background": "light"
          }
        },
        {
          "output_type": "display_data",
          "data": {
            "text/plain": [
              "<Figure size 1440x648 with 1 Axes>"
            ],
            "image/png": "[encoded data removed]"
          },
          "metadata": {
            "needs_background": "light"
          }
        }
      ]
    },
    {
      "cell_type": "code",
      "execution_count": 6,
      "metadata": {
        "pycharm": {
          "name": "#%%\n"
        },
        "id": "hKe1-QegXIsM"
      },
      "outputs": [],
      "source": [
        "# Declare the type of each column in the dataset(example: category, numeric, text)\n",
        "column_types = {'default':\"category\",\n",
        "               'account_check_status':\"category\", \n",
        "               'duration_in_month':\"numeric\",\n",
        "               'credit_history':\"category\",\n",
        "               'purpose':\"category\",\n",
        "               'credit_amount':\"numeric\",\n",
        "               'savings':\"category\",\n",
        "               'present_employment_since':\"category\",\n",
        "               'installment_as_income_perc':\"numeric\",\n",
        "               'sex':\"category\",\n",
        "               'personal_status':\"category\",\n",
        "               'other_debtors':\"category\",\n",
        "               'present_residence_since':\"numeric\",\n",
        "               'property':\"category\",\n",
        "               'age':\"numeric\",\n",
        "               'other_installment_plans':\"category\",\n",
        "               'housing':\"category\",\n",
        "               'credits_this_bank':\"numeric\",\n",
        "               'job':\"category\",\n",
        "               'people_under_maintenance':\"numeric\",\n",
        "               'telephone':\"category\",\n",
        "               'foreign_worker':\"category\"}"
      ]
    },
    {
      "cell_type": "code",
      "source": [
        "from sklearn.preprocessing import PowerTransformer, OrdinalEncoder"
      ],
      "metadata": {
        "id": "KmLB6otPyIiv"
      },
      "execution_count": 7,
      "outputs": []
    },
    {
      "cell_type": "code",
      "execution_count": 371,
      "metadata": {
        "pycharm": {
          "name": "#%%\n"
        },
        "id": "2qT94XNbXIsN",
        "colab": {
          "base_uri": "https://localhost:8080/"
        },
        "outputId": "5acd4332-5f32-4397-ab54-a6770805fb4f"
      },
      "outputs": [
        {
          "output_type": "execute_result",
          "data": {
            "text/plain": [
              "0.755"
            ]
          },
          "metadata": {},
          "execution_count": 371
        }
      ],
      "source": [
        "# feature_types is used to declare the features the model is trained on\n",
        "feature_types = {i:column_types[i] for i in column_types if i!='default'}\n",
        "\n",
        "# Pipeline to fill missing values, transform and scale the numeric columns\n",
        "columns_to_scale = [key for key in feature_types.keys() if feature_types[key]==\"numeric\"]\n",
        "numeric_transformer = Pipeline([('imputer', SimpleImputer(strategy='median', add_indicator=True)),\n",
        "    ('scaler', StandardScaler())])\n",
        "\n",
        "# Pipeline to fill missing values and one hot encode the categorical values\n",
        "columns_to_encode = [key for key in feature_types.keys() if feature_types[key]==\"category\"]\n",
        "categorical_transformer = Pipeline([\n",
        "        #('imputer', SimpleImputer(strategy='constant', fill_value='missing', add_indicator=True)),\n",
        "        ('onehot', OneHotEncoder(handle_unknown='ignore',sparse=False)) ])\n",
        "\n",
        "# Perform preprocessing of the columns with the above pipelines\n",
        "preprocessor = ColumnTransformer(\n",
        "    transformers=[\n",
        "        ('num', numeric_transformer, columns_to_scale),\n",
        "      ('cat', categorical_transformer, columns_to_encode)\n",
        "          ]\n",
        ")\n",
        "\n",
        "# Pipeline for the model Logistic Regression\n",
        "clf_logistic_regression = Pipeline(steps=[('preprocessor', preprocessor),\n",
        "                      ('classifier', LogisticRegression(max_iter =1000))])\n",
        "\n",
        "# Split the data into train and test\n",
        "Y=credit['default']\n",
        "X= credit.drop(columns=\"default\")\n",
        "X_train, X_test, Y_train, Y_test = model_selection.train_test_split(X, Y, test_size=0.20,random_state = 30, stratify = Y)\n",
        "\n",
        "# Fit and score your model\n",
        "clf_logistic_regression.fit(X_train, Y_train)\n",
        "clf_logistic_regression.score(X_test, Y_test)"
      ]
    },
    {
      "cell_type": "code",
      "source": [
        "preprocessor.fit(X_train, Y_train)"
      ],
      "metadata": {
        "colab": {
          "base_uri": "https://localhost:8080/"
        },
        "id": "s4ObcGUe_5uu",
        "outputId": "6211d853-ea26-45f9-bc35-d932d4e5d25b"
      },
      "execution_count": 372,
      "outputs": [
        {
          "output_type": "execute_result",
          "data": {
            "text/plain": [
              "ColumnTransformer(transformers=[('num',\n",
              "                                 Pipeline(steps=[('imputer',\n",
              "                                                  SimpleImputer(add_indicator=True,\n",
              "                                                                strategy='median')),\n",
              "                                                 ('scaler', StandardScaler())]),\n",
              "                                 ['duration_in_month', 'credit_amount',\n",
              "                                  'installment_as_income_perc',\n",
              "                                  'present_residence_since', 'age',\n",
              "                                  'credits_this_bank',\n",
              "                                  'people_under_maintenance']),\n",
              "                                ('cat',\n",
              "                                 Pipeline(steps=[('onehot',\n",
              "                                                  OneHotEncoder(handle_unknown='ignore',\n",
              "                                                                sparse=False))]),\n",
              "                                 ['account_check_status', 'credit_history',\n",
              "                                  'purpose', 'savings',\n",
              "                                  'present_employment_since', 'sex',\n",
              "                                  'personal_status', 'other_debtors',\n",
              "                                  'property', 'other_installment_plans',\n",
              "                                  'housing', 'job', 'telephone',\n",
              "                                  'foreign_worker'])])"
            ]
          },
          "metadata": {},
          "execution_count": 372
        }
      ]
    },
    {
      "cell_type": "code",
      "source": [
        "X_train['default'] = Y_train"
      ],
      "metadata": {
        "id": "f5m24UxByl1S"
      },
      "execution_count": 373,
      "outputs": []
    },
    {
      "cell_type": "code",
      "source": [
        "df = X_train"
      ],
      "metadata": {
        "id": "1gPwSqu2ARoy"
      },
      "execution_count": 374,
      "outputs": []
    },
    {
      "cell_type": "code",
      "source": [
        "import pandas as pd\n",
        "import numpy as np\n",
        "\n",
        "from sklearn.mixture import GaussianMixture as GMM\n",
        "\n",
        "# pandas dataframe df has a column credit_history\n",
        "# we will extract unique classes from\n",
        "arr_classes = np.sort(df.default.unique())\n",
        "\n",
        "# new we train a unique gmm for each class\n",
        "# and save results in a dictionary\n",
        "gmms = dict()\n",
        "for cls in arr_classes:\n",
        "    print('class', cls)\n",
        "    \n",
        "    # extract samples for the class and convert to numpy\n",
        "    # and remove the class label which is the last column in the dataframe\n",
        "    x_train = df[df['default'] == cls]\n",
        "    x_train = x_train.drop(columns=\"default\")\n",
        "    \n",
        "    # train gmm, extract results, and save in dictionary\n",
        "    gmm = GMM(n_components=1, covariance_type = 'full').fit(preprocessor.transform(x_train))\n",
        "    gmms[cls] = (gmm.means_, gmm.covariances_)"
      ],
      "metadata": {
        "colab": {
          "base_uri": "https://localhost:8080/"
        },
        "id": "yhD5syFt3DWe",
        "outputId": "55fd944c-0d71-4c38-a18d-64c2678e112a"
      },
      "execution_count": 375,
      "outputs": [
        {
          "output_type": "stream",
          "name": "stdout",
          "text": [
            "class Default\n",
            "class Not default\n"
          ]
        }
      ]
    },
    {
      "cell_type": "code",
      "source": [
        "\n",
        "#2 a couple of additional imports\n",
        "import numpy.linalg as lnalg\n",
        "from scipy.spatial.distance import mahalanobis\n",
        "\n",
        "# first we will calculate average MD distance for each class\n",
        "# we will use it later for a saliency check\n",
        "\n",
        "for cls in arr_classes:\n",
        "    # let's randomly select 1000 samples\n",
        "    sub_sample = df[df['default']==cls].sample(frac=1)\n",
        "    sub_sample = sub_sample.drop(columns=\"default\")\n",
        "    sub_sample = preprocessor.transform(sub_sample)[:1000, :]\n",
        "    \n",
        "    mh = np.empty((sub_sample.shape[0]))\n",
        "    mu, sig = gmms[cls]\n",
        "    # we have to invert the matrix for mahalanobis calc\n",
        "    isig = lnalg.inv(sig)\n",
        "    \n",
        "    for i in range(sub_sample.shape[0]):\n",
        "        mh[i] = mahalanobis(sub_sample[i], mu, isig)\n",
        "        \n",
        "    print('class', cls, 'mean', mh.mean())"
      ],
      "metadata": {
        "colab": {
          "base_uri": "https://localhost:8080/"
        },
        "id": "G42OclHVAuSr",
        "outputId": "da7e299d-3ce0-4c1f-bd3f-4b8e0365b8d0"
      },
      "execution_count": 376,
      "outputs": [
        {
          "output_type": "stream",
          "name": "stdout",
          "text": [
            "class Default mean 6.770841853065254\n",
            "class Not default mean 6.734894314845665\n"
          ]
        }
      ]
    },
    {
      "cell_type": "code",
      "source": [
        "cls_to_int = {arr_classes[i] : i for i in range(len(arr_classes))}"
      ],
      "metadata": {
        "id": "C5FSpDiROHEr"
      },
      "execution_count": 377,
      "outputs": []
    },
    {
      "cell_type": "code",
      "source": [
        "cls_to_int"
      ],
      "metadata": {
        "colab": {
          "base_uri": "https://localhost:8080/"
        },
        "id": "eQ8Svb1TOi2T",
        "outputId": "7002f5d4-7df7-4d3f-9c58-a9cb7517cbc7"
      },
      "execution_count": 378,
      "outputs": [
        {
          "output_type": "execute_result",
          "data": {
            "text/plain": [
              "{'Default': 0, 'Not default': 1}"
            ]
          },
          "metadata": {},
          "execution_count": 378
        }
      ]
    },
    {
      "cell_type": "code",
      "source": [
        "\n",
        "# 3 NOTE: for performance this should be coded as vectorized set operations\n",
        "# here using loops for clarity\n",
        "\n",
        "inv_sig = dict()\n",
        "mh = np.zeros((arr_classes.shape[0]))\n",
        "\n",
        "smpls = df.sample(frac=1)[:500]\n",
        "x = preprocessor.transform(smpls.drop(columns=\"default\")) # smpls[:, :-1]\n",
        "labels = smpls[\"default\"].to_numpy()#preprocessor.named_transformers_['cat'].transform(smpls[\"default\"].values.reshape(-1, 1)) # smpls[:, -1:]\n",
        "\n",
        "results = np.zeros(x.shape[0])\n",
        "\n",
        "# let's invert all sigmas from GMMs\n",
        "for cls in arr_classes:\n",
        "    mu, sig = gmms[cls]\n",
        "    isig = lnalg.inv(sig)\n",
        "    inv_sig[cls] = mu, isig\n",
        "\n",
        "for i in range(x.shape[0]):\n",
        "    for cls in arr_classes:\n",
        "        mu, isig = inv_sig[cls]\n",
        "        mh[cls_to_int[cls]] = mahalanobis(x[i], mu, isig)\n",
        "       \n",
        "    # if gmm prediction matches the original class label let's save the result\n",
        "    if np.argmin(mh) == cls_to_int[labels[i]]: #labels[i]:\n",
        "        results[i] = 1\n",
        "        \n",
        "# let's calculate simple accuracy: True / All Samples\n",
        "acc = results.sum() / results.shape[0]\n",
        "\n",
        "print('Accuracy:', acc)\n",
        "if acc > .9: print('Doing well')"
      ],
      "metadata": {
        "colab": {
          "base_uri": "https://localhost:8080/"
        },
        "id": "tZKT10d8AuVJ",
        "outputId": "e59403fd-6635-46a8-ec2e-8a66a5c49c50"
      },
      "execution_count": 379,
      "outputs": [
        {
          "output_type": "stream",
          "name": "stdout",
          "text": [
            "Accuracy: 0.834\n"
          ]
        }
      ]
    },
    {
      "cell_type": "code",
      "source": [
        "#4 calculate the number of entities to add to each underepresented class\n",
        "# we actually generate twice as many since some of these will shift to different\n",
        "# classes by virtue of instability of categorical data\n",
        "# we will later select only the required percentage\n",
        "cnts = {key : 140 for key in list(cls_to_int.keys())}\n",
        "\n",
        "# NOTE: let's create a list of categorical columns so we can normalize\n",
        "# them to 0 and 1 values after synthesizing new data\n",
        "\n",
        "x = preprocessor.transform(df.drop(columns=\"default\"))\n",
        "#labels = np.array([cls_to_int[label] for label in df[\"default\"].to_numpy()]) \n",
        "\n",
        "cols_num = x.shape[1]\n",
        "# Get the unique values of each column\n",
        "unique_vals = [np.unique(x[:, i]) for i in range(x.shape[1])]\n",
        "# let's see how many unique values each column has\n",
        "cat_columns = [np.array_equal(col, [0, 1]) for col in unique_vals] # MB sort col\n",
        "\n",
        "# generate a new distribution for each column and class\n",
        "new_class_arrays = []\n",
        "\n",
        "for cls in arr_classes:\n",
        "    dlt = cnts[cls]#int(cnts[cnts['default']==cls]['delta'])\n",
        "    if dlt <=0: continue\n",
        "        \n",
        "    #desc_df = df[df['default']==cls].describe()\n",
        "    \n",
        "    sub_arr = np.zeros((dlt, cols_num, 1))\n",
        "    \n",
        "    col_counter = 0\n",
        "    for col in range(cols_num):\n",
        "        sub_arr[:, col_counter] = np.random.normal(loc=np.mean(x[:,col]),#desc_df[col]['mean'], \n",
        "                                                   scale=np.std(x[:,col]),#desc_df[col]['std'], \n",
        "                                                   size= (dlt, 1),\n",
        "\n",
        "                                                  )\n",
        "        col_counter += 1\n",
        "    new_class_arrays.append(sub_arr)\n",
        "\n",
        "new_samples = np.concatenate(new_class_arrays)\n",
        "\n",
        "# now that we have our new samples let's convert the purturbed columns back\n",
        "# to categorical columns using the list that we have created above\n",
        "\n",
        "c_idx = 0\n",
        "for c in cat_columns:\n",
        "    if c == True:\n",
        "        # get slices, thee original label then either discard or re-assign\n",
        "    # we are going to re-assign the classn update them which updates the parent array\n",
        "        s = new_samples[:, c_idx, :]\n",
        "        s[s < .5] = 0\n",
        "        s[s >=.5] = 1\n",
        "        new_samples[:, c_idx, :] = s\n",
        "    c_idx +=1"
      ],
      "metadata": {
        "id": "5UaT-5C_3E8i"
      },
      "execution_count": 380,
      "outputs": []
    },
    {
      "cell_type": "code",
      "source": [
        "np.array([cls_to_int[label] for label in df[\"default\"].to_numpy()]).shape"
      ],
      "metadata": {
        "colab": {
          "base_uri": "https://localhost:8080/"
        },
        "id": "TxMNZ-hlrLb6",
        "outputId": "c0409137-4ae6-4506-b66b-8447310525cf"
      },
      "execution_count": 381,
      "outputs": [
        {
          "output_type": "execute_result",
          "data": {
            "text/plain": [
              "(800,)"
            ]
          },
          "metadata": {},
          "execution_count": 381
        }
      ]
    },
    {
      "cell_type": "code",
      "source": [
        "x.shape"
      ],
      "metadata": {
        "colab": {
          "base_uri": "https://localhost:8080/"
        },
        "id": "g0OW5wMTrPTQ",
        "outputId": "fced9a2a-fa0f-4c89-9b8a-29e4fa1907ea"
      },
      "execution_count": 382,
      "outputs": [
        {
          "output_type": "execute_result",
          "data": {
            "text/plain": [
              "(800, 62)"
            ]
          },
          "metadata": {},
          "execution_count": 382
        }
      ]
    },
    {
      "cell_type": "code",
      "source": [
        "min_dist = 0.0005"
      ],
      "metadata": {
        "id": "hsESKdsivKoA"
      },
      "execution_count": 383,
      "outputs": []
    },
    {
      "cell_type": "code",
      "source": [
        "#5 iterate through samples and confirm class assignment or re-assign\n",
        "x = new_samples\n",
        "labels = np.zeros(x.shape[0]) #labels = np.array([cls_to_int[label] for label in df[\"default\"].to_numpy()]) \n",
        "results = np.ones(x.shape[0])\n",
        "\n",
        "for i in range(x.shape[0]):\n",
        "    for cls in arr_classes:\n",
        "        mu, isig = inv_sig[cls]\n",
        "        mh[cls_to_int[cls]] = mahalanobis(x[i], mu, isig)\n",
        "       \n",
        "    # if gmm assignment is not the same as the original label then either discard or re-assign\n",
        "    #if np.argmin(mh) != cls_to_int[labels[i]]:\n",
        "    labels[i] = np.argmin(mh)\n",
        "    if abs(mh[0] - mh[1]) < min_dist:\n",
        "        results[i] = 0\n",
        "        \n",
        "#then concat labels and new samples, turn into a dataframe, concat with original and train.\n",
        "labels"
      ],
      "metadata": {
        "id": "am5DK9Ly2zSf",
        "colab": {
          "base_uri": "https://localhost:8080/"
        },
        "outputId": "72bde52d-0b38-4110-f6cc-cbab7025f59c"
      },
      "execution_count": 384,
      "outputs": [
        {
          "output_type": "execute_result",
          "data": {
            "text/plain": [
              "array([1., 0., 1., 0., 1., 0., 0., 0., 0., 1., 0., 1., 0., 1., 1., 1., 1.,\n",
              "       0., 0., 1., 1., 1., 0., 0., 0., 1., 0., 0., 0., 0., 0., 0., 1., 0.,\n",
              "       0., 1., 0., 0., 0., 0., 1., 0., 0., 0., 0., 1., 0., 0., 1., 0., 1.,\n",
              "       1., 0., 1., 0., 1., 1., 1., 1., 0., 1., 0., 0., 0., 0., 0., 1., 0.,\n",
              "       0., 1., 0., 1., 0., 0., 0., 1., 1., 0., 0., 0., 1., 0., 1., 0., 0.,\n",
              "       0., 0., 1., 0., 1., 1., 0., 0., 0., 1., 1., 1., 1., 0., 0., 1., 0.,\n",
              "       1., 0., 0., 1., 0., 1., 0., 1., 0., 0., 0., 1., 0., 0., 1., 0., 1.,\n",
              "       0., 1., 0., 1., 0., 0., 1., 0., 1., 0., 0., 1., 0., 0., 0., 0., 0.,\n",
              "       1., 1., 0., 0., 1., 1., 0., 1., 0., 1., 0., 0., 1., 0., 1., 1., 0.,\n",
              "       1., 0., 0., 0., 1., 1., 0., 1., 1., 0., 1., 0., 0., 0., 0., 0., 1.,\n",
              "       0., 0., 0., 1., 1., 0., 0., 1., 1., 0., 1., 0., 1., 0., 0., 1., 0.,\n",
              "       1., 1., 1., 1., 0., 0., 0., 0., 0., 0., 0., 0., 1., 0., 1., 0., 1.,\n",
              "       0., 0., 1., 1., 0., 1., 1., 0., 0., 0., 0., 1., 0., 1., 1., 0., 1.,\n",
              "       1., 1., 1., 1., 0., 1., 1., 1., 0., 0., 0., 0., 1., 0., 0., 0., 0.,\n",
              "       0., 1., 0., 0., 1., 1., 0., 1., 0., 0., 0., 1., 0., 0., 0., 1., 0.,\n",
              "       0., 0., 1., 1., 1., 0., 0., 0., 1., 1., 1., 1., 0., 1., 0., 0., 0.,\n",
              "       0., 0., 0., 1., 1., 0., 0., 0.])"
            ]
          },
          "metadata": {},
          "execution_count": 384
        }
      ]
    },
    {
      "cell_type": "code",
      "source": [
        "x = x[results.astype(bool)]\n",
        "labels = labels[results.astype(bool)]\n"
      ],
      "metadata": {
        "id": "GMfp65KwwJQ7"
      },
      "execution_count": 385,
      "outputs": []
    },
    {
      "cell_type": "code",
      "source": [
        "cat_data = x.reshape((-1, 62))[:, cat_columns]\n",
        "num_data = x.reshape((-1, 62))[:, [not col for col in cat_columns]]"
      ],
      "metadata": {
        "id": "3dYGg9_TsTEZ"
      },
      "execution_count": 386,
      "outputs": []
    },
    {
      "cell_type": "code",
      "source": [
        "num_data = preprocessor.named_transformers_['num'].inverse_transform(num_data)"
      ],
      "metadata": {
        "id": "nDc9JqzlpHYr"
      },
      "execution_count": 387,
      "outputs": []
    },
    {
      "cell_type": "code",
      "source": [
        "names = []\n",
        "for transformer in preprocessor.transformers:\n",
        "    names = np.concatenate((names, transformer[-1]))"
      ],
      "metadata": {
        "id": "Ege7TtJY2AvU"
      },
      "execution_count": 388,
      "outputs": []
    },
    {
      "cell_type": "code",
      "source": [
        "names = np.insert(names, 0, \"default\")"
      ],
      "metadata": {
        "id": "oWG9FDeg3-sW"
      },
      "execution_count": 389,
      "outputs": []
    },
    {
      "cell_type": "code",
      "source": [
        "cat_data = preprocessor.named_transformers_['cat'].inverse_transform(cat_data)"
      ],
      "metadata": {
        "id": "EGLHWRCVuYA-"
      },
      "execution_count": 390,
      "outputs": []
    },
    {
      "cell_type": "code",
      "source": [
        "int_to_cls = {v: k for k, v in cls_to_int.items()}"
      ],
      "metadata": {
        "id": "bt9D7EdTzp2M"
      },
      "execution_count": 391,
      "outputs": []
    },
    {
      "cell_type": "code",
      "source": [
        "labels = np.array([int_to_cls[label] for label in labels])"
      ],
      "metadata": {
        "id": "0EJJU6JL0YbS"
      },
      "execution_count": 392,
      "outputs": []
    },
    {
      "cell_type": "code",
      "source": [
        "num_data.shape"
      ],
      "metadata": {
        "colab": {
          "base_uri": "https://localhost:8080/"
        },
        "id": "yxc0HCtm05R3",
        "outputId": "d4a4cd4e-5ff1-48e8-9c53-636ff2e78e95"
      },
      "execution_count": 393,
      "outputs": [
        {
          "output_type": "execute_result",
          "data": {
            "text/plain": [
              "(256, 7)"
            ]
          },
          "metadata": {},
          "execution_count": 393
        }
      ]
    },
    {
      "cell_type": "code",
      "source": [
        "data_data = np.concatenate((num_data, cat_data), axis=1)"
      ],
      "metadata": {
        "id": "wpUDZ45n0tb8"
      },
      "execution_count": 394,
      "outputs": []
    },
    {
      "cell_type": "code",
      "source": [
        "np.concatenate((labels.reshape(-1, 1), data_data), axis=1)"
      ],
      "metadata": {
        "colab": {
          "base_uri": "https://localhost:8080/"
        },
        "id": "XzTBvnJ20liw",
        "outputId": "ab2c767b-c3e9-4443-825a-a2e32be1040c"
      },
      "execution_count": 395,
      "outputs": [
        {
          "output_type": "execute_result",
          "data": {
            "text/plain": [
              "array([['Not default', 25.162811454430994, 2324.487737200749, ...,\n",
              "        'skilled employee / official', None, 'yes'],\n",
              "       ['Default', 3.445047677632484, 5114.758388768454, ...,\n",
              "        'skilled employee / official', None, 'yes'],\n",
              "       ['Not default', 23.990421662613677, 5200.49613700382, ..., None,\n",
              "        'none', 'yes'],\n",
              "       ...,\n",
              "       ['Default', 27.35448898858956, 9484.979071691221, ...,\n",
              "        'skilled employee / official', None, 'yes'],\n",
              "       ['Default', 39.61458402711796, 5469.949199570583, ...,\n",
              "        'skilled employee / official', 'none', 'yes'],\n",
              "       ['Default', 5.4211592885770745, 572.4169414691346, ..., None,\n",
              "        'none', 'yes']], dtype=object)"
            ]
          },
          "metadata": {},
          "execution_count": 395
        }
      ]
    },
    {
      "cell_type": "code",
      "source": [
        "new_data = pd.DataFrame(data=np.concatenate((labels.reshape(-1, 1), data_data), axis=1), columns=names)"
      ],
      "metadata": {
        "id": "t2Xaoj77n-nF"
      },
      "execution_count": 396,
      "outputs": []
    },
    {
      "cell_type": "code",
      "source": [
        "from sklearn.utils import shuffle"
      ],
      "metadata": {
        "id": "DusguAVt-qlc"
      },
      "execution_count": 397,
      "outputs": []
    },
    {
      "cell_type": "code",
      "execution_count": 398,
      "metadata": {
        "pycharm": {
          "name": "#%%\n"
        },
        "colab": {
          "base_uri": "https://localhost:8080/"
        },
        "id": "jmDeWtRrXIsO",
        "outputId": "69f2c7cf-27f3-4bbf-d510-0751c3354232"
      },
      "outputs": [
        {
          "output_type": "execute_result",
          "data": {
            "text/plain": [
              "0.785"
            ]
          },
          "metadata": {},
          "execution_count": 398
        }
      ],
      "source": [
        "# Split the data into train and test\n",
        "augmented_credit = credit.append(new_data, ignore_index = True)\n",
        "Y=credit['default']\n",
        "X= credit.drop(columns=\"default\")\n",
        "X_train, X_test, Y_train, Y_test = model_selection.train_test_split(X, Y, test_size=0.20,random_state = 30, stratify = Y)\n",
        "X_train, Y_train = shuffle(X_train.append(new_data.drop(columns=\"default\"), ignore_index = True), Y_train.append(new_data['default'], ignore_index = True), random_state=30)\n",
        "\n",
        "# Fit and score your model\n",
        "clf_logistic_regression.fit(X_train, Y_train)\n",
        "clf_logistic_regression.score(X_test, Y_test)"
      ]
    },
    {
      "cell_type": "code",
      "execution_count": 370,
      "metadata": {
        "pycharm": {
          "name": "#%%\n"
        },
        "id": "alT9dV7iXIsP"
      },
      "outputs": [],
      "source": [
        "# Prepare data to upload on Giskard\n",
        "train_data = pd.concat([X_train, Y_train], axis=1)\n",
        "test_data = pd.concat([X_test, Y_test ], axis=1)"
      ]
    },
    {
      "cell_type": "markdown",
      "metadata": {
        "pycharm": {
          "name": "#%% md\n"
        },
        "id": "JEnzBTjqXIsP"
      },
      "source": [
        "# Upload the model in Giskard 🚀🚀🚀"
      ]
    },
    {
      "cell_type": "markdown",
      "metadata": {
        "pycharm": {
          "name": "#%% md\n"
        },
        "id": "boWkmhQOXIsP"
      },
      "source": [
        "### Initiate a project"
      ]
    },
    {
      "cell_type": "code",
      "execution_count": null,
      "metadata": {
        "pycharm": {
          "name": "#%%\n"
        },
        "id": "nePKjWMJXIsQ"
      },
      "outputs": [],
      "source": [
        "from giskard import GiskardClient\n",
        "\n",
        "url = \"http://localhost:19000\" #if Giskard is installed locally (for installation, see: https://docs.giskard.ai/start/guides/installation)\n",
        "#url = \"http://app.giskard.ai\" # If you want to upload on giskard URL\n",
        "token = \"YOUR GENERATED TOKEN\" #you can generate your API token in the Admin tab of the Giskard application (for installation, see: https://docs.giskard.ai/start/guides/installation)\n",
        "\n",
        "client = GiskardClient(url, token)\n",
        "\n",
        "# your_project = client.create_project(\"project_key\", \"PROJECT_NAME\", \"DESCRIPTION\")\n",
        "# Choose the arguments you want. But \"project_key\" should be unique and in lower case\n",
        "credit_scoring = client.create_project(\"credit_scoring\", \"German Credit Scoring\", \"Project to predict if user will default\")\n",
        "\n",
        "# If you've already created a project with the key \"credit-scoring\" use\n",
        "#credit_scoring = client.get_project(\"credit_scoring\")\n"
      ]
    },
    {
      "cell_type": "markdown",
      "metadata": {
        "pycharm": {
          "name": "#%% md\n"
        },
        "id": "wIlcY4_rXIsQ"
      },
      "source": [
        "### Upload your model and a dataset (see [documentation](https://docs.giskard.ai/start/guides/upload-your-model))"
      ]
    },
    {
      "cell_type": "code",
      "execution_count": null,
      "metadata": {
        "pycharm": {
          "name": "#%%\n"
        },
        "id": "84gnzovHXIsQ"
      },
      "outputs": [],
      "source": [
        "credit_scoring.upload_model_and_df(\n",
        "    prediction_function=clf_logistic_regression.predict_proba, # Python function which takes pandas dataframe as input and returns probabilities for classification model OR returns predictions for regression model\n",
        "    model_type='classification', # \"classification\" for classification model OR \"regression\" for regression model\n",
        "    df=test_data, # the dataset you want to use to inspect your model\n",
        "    column_types=column_types, # A dictionary with columns names of df as key and types(category, numeric, text) of columns as values\n",
        "    target='default', # The column name in df corresponding to the actual target variable (ground truth).\n",
        "    feature_names=list(feature_types.keys()), # List of the feature names of prediction_function\n",
        "    classification_labels=clf_logistic_regression.classes_ ,  # List of the classification labels of your prediction\n",
        "    model_name='logistic_regression_v1', # Name of the model\n",
        "    dataset_name='test_data' # Name of the dataset\n",
        ")"
      ]
    },
    {
      "cell_type": "markdown",
      "metadata": {
        "pycharm": {
          "name": "#%% md\n"
        },
        "id": "TZYChYzgXIsR"
      },
      "source": [
        "### 🌟 If you want to upload a dataset without a model\n",
        "\n",
        "\n",
        "\n",
        "\n"
      ]
    },
    {
      "cell_type": "markdown",
      "metadata": {
        "pycharm": {
          "name": "#%% md\n"
        },
        "id": "6Jfa5rMUXIsR"
      },
      "source": [
        "For example, let's upload the train set in Giskard, this is key to create drift tests in Giskard.\n"
      ]
    },
    {
      "cell_type": "code",
      "execution_count": null,
      "metadata": {
        "pycharm": {
          "name": "#%%\n"
        },
        "id": "DDP3kF1oXIsR"
      },
      "outputs": [],
      "source": [
        "credit_scoring.upload_df(\n",
        "    df=train_data, # The dataset you want to upload\n",
        "    column_types=column_types, # All the column types of df\n",
        "    target=\"default\", # Do not pass this parameter if dataset doesn't contain target column\n",
        "    name=\"train_data\" # Name of the dataset\n",
        ")"
      ]
    },
    {
      "cell_type": "markdown",
      "metadata": {
        "pycharm": {
          "name": "#%% md\n"
        },
        "id": "CTA54kc4XIsR"
      },
      "source": [
        "You can also upload new production data to use it as a validation set for your existing model. In that case, you might not have the ground truth target variable"
      ]
    },
    {
      "cell_type": "code",
      "execution_count": null,
      "metadata": {
        "pycharm": {
          "name": "#%%\n"
        },
        "id": "upfgG6BSXIsS"
      },
      "outputs": [],
      "source": [
        "production_data = credit.drop(columns=\"default\")"
      ]
    },
    {
      "cell_type": "code",
      "execution_count": null,
      "metadata": {
        "pycharm": {
          "name": "#%%\n"
        },
        "id": "JSjfue21XIsS"
      },
      "outputs": [],
      "source": [
        "credit_scoring.upload_df(\n",
        "    df=production_data, # The dataset you want to upload\n",
        "    column_types=feature_types, # All the column types without the target\n",
        "    name=\"production_data\"# Name of the dataset\n",
        ")"
      ]
    },
    {
      "cell_type": "markdown",
      "metadata": {
        "pycharm": {
          "name": "#%% md\n"
        },
        "id": "uFxjzBAjXIsS"
      },
      "source": []
    },
    {
      "cell_type": "markdown",
      "metadata": {
        "pycharm": {
          "name": "#%% md\n"
        },
        "id": "DXB2KtHlXIsT"
      },
      "source": [
        "### 🌟 If you just want to upload a model without a dataframe \n",
        "\n",
        "This happens for instance when you built a new version of the model and you want to inspect it using a validation dataframe that is already in Giskard\n",
        "\n",
        "For example, let's create a second version of the model using random forest"
      ]
    },
    {
      "cell_type": "code",
      "execution_count": null,
      "metadata": {
        "pycharm": {
          "name": "#%%\n"
        },
        "id": "wPw7pAHrXIsT"
      },
      "outputs": [],
      "source": [
        "clf_random_forest = Pipeline(steps=[('preprocessor', preprocessor),\n",
        "                      ('classifier', RandomForestClassifier(max_depth=10,random_state=0))])\n",
        "\n",
        "clf_random_forest.fit(X_train, Y_train)\n",
        "clf_random_forest.score(X_test, Y_test)"
      ]
    },
    {
      "cell_type": "code",
      "execution_count": null,
      "metadata": {
        "pycharm": {
          "name": "#%%\n"
        },
        "id": "SgxQyhWCXIsT"
      },
      "outputs": [],
      "source": [
        "credit_scoring.upload_model(\n",
        "    prediction_function=clf_random_forest.predict_proba, # Python function which takes pandas dataframe as input and returns probabilities for classification model OR returns predictions for regression model\n",
        "    model_type='classification', # \"classification\" for classification model OR \"regression\" for regression model\n",
        "    feature_names=list(feature_types.keys()), # List of the feature names of prediction_function\n",
        "    name='random_forest', # Name of the model\n",
        "    validate_df=train_data, # Optional. Validation df is not uploaded in the app, it's only used to check whether the model has the good format\n",
        "    target=\"default\", # Optional. target should be a column of validate_df. Pass this parameter only if validate_df is being passed\n",
        "    classification_labels=[\"Default\",\"Not default\"] # List of the classification labels of your prediction\n",
        "\n",
        ")"
      ]
    },
    {
      "cell_type": "markdown",
      "metadata": {
        "cell_id": "c49894d61f544e8f88030b7be8078c6b",
        "deepnote_app_coordinates": {
          "h": 5,
          "w": 12,
          "x": 0,
          "y": 96
        },
        "deepnote_cell_height": 62,
        "deepnote_cell_type": "markdown",
        "id": "DGQ50rUN7xbe",
        "pycharm": {
          "name": "#%% md\n"
        },
        "tags": []
      },
      "source": [
        "### Happy Exploration ! 🧑‍🚀"
      ]
    },
    {
      "cell_type": "markdown",
      "source": [
        "# Another approaches:\n",
        "\n",
        "* Generative adversarial networks (GANs)\n",
        "\n",
        "\n"
      ],
      "metadata": {
        "id": "s91NYFyisoqO"
      }
    }
  ],
  "metadata": {
    "colab": {
      "provenance": []
    },
    "deepnote": {
      "is_reactive": false
    },
    "deepnote_app_layout": "article",
    "deepnote_execution_queue": [],
    "deepnote_notebook_id": "6e7ea85d-f19e-4d05-90a4-44b7668fd037",
    "kernelspec": {
      "display_name": "Python 3",
      "language": "python",
      "name": "python3"
    },
    "language_info": {
      "codemirror_mode": {
        "name": "ipython",
        "version": 3
      },
      "file_extension": ".py",
      "mimetype": "text/x-python",
      "name": "python",
      "nbconvert_exporter": "python",
      "pygments_lexer": "ipython3",
      "version": "3.7.15"
    }
  },
  "nbformat": 4,
  "nbformat_minor": 0
}